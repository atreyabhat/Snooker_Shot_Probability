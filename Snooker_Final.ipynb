{
 "cells": [
  {
   "cell_type": "code",
   "execution_count": 1,
   "metadata": {},
   "outputs": [
    {
     "name": "stdout",
     "output_type": "stream",
     "text": [
      "The first line is white ball, followed by 9 Red balls\n",
      "[[ 27  46]\n",
      " [133  62]\n",
      " [114  81]\n",
      " [193  68]\n",
      " [ 62  85]\n",
      " [163  44]\n",
      " [132  90]\n",
      " [100  93]\n",
      " [190  38]]\n",
      "############################################################\n",
      "THE POCKETS ARE COUNTED FROM 0-5 IN CLOCKWISE FROM THE ORIGIN\n",
      "############################################################\n"
     ]
    },
    {
     "data": {
      "image/png": "[encoded data removed]",
      "text/plain": [
       "<Figure size 432x288 with 1 Axes>"
      ]
     },
     "metadata": {
      "needs_background": "light"
     },
     "output_type": "display_data"
    }
   ],
   "source": [
    "import numpy as np\n",
    "import matplotlib.pyplot as plt\n",
    "import math\n",
    "\n",
    "#generate random ball positions\n",
    "balls = np.zeros((9,2),dtype=np.int)\n",
    "#i=0\n",
    "for i in range(0,9): \n",
    "    for j in range(0,2): \n",
    "        balls[i,j] = np.random.randint(0,200)\n",
    "    balls[i,j] = np.random.randint(0,100)\n",
    "pockets = np.array([[0,0],[0,100],[100,100],[200,100],[200,0],[100,0]])\n",
    "print(\"The first line is white ball, followed by \" + str(len(balls))+ \" Red balls\")\n",
    "print(balls)\n",
    "\n",
    "\n",
    "#functions to map 2 ranges and to get angle between 3 points\n",
    "\n",
    "def map(value, leftMin, leftMax, rightMin, rightMax):      \n",
    "    # Figure out how 'wide' each range is\n",
    "    leftSpan = leftMax - leftMin\n",
    "    rightSpan = rightMax - rightMin\n",
    "    # Convert the left range into a 0-1 range (float)\n",
    "    valueScaled = float(value - leftMin) / float(leftSpan)\n",
    "    # Convert the 0-1 range into a value in the right range.\n",
    "    return rightMin + (valueScaled * rightSpan)\n",
    "\n",
    "def getAngle(a, b, c):                                     \n",
    "    ang = math.degrees(math.atan2(c[1]-b[1], c[0]-b[0]) - math.atan2(a[1]-b[1], a[0]-b[0]))\n",
    "    #return (ang) if ang < 0 else abs(ang)\n",
    "    #return abs(ang) if ang < 0 and not abs(ang)>90 else abs(180-ang)\n",
    "    \n",
    "    #conditions to output proper angles, can still be imporved as it gives a wrong output in certain cases\n",
    "    \n",
    "    if ang<0 and (180+ang)>0:\n",
    "        return 180+ang\n",
    "    elif ang>0 and 180-ang<0:\n",
    "        return ang-180\n",
    "    elif ang<0 and 180+ang<0:\n",
    "        return 90\n",
    "    elif ang>0 and 180-ang>0:\n",
    "        return 90\n",
    "    else:\n",
    "        return 90\n",
    "\n",
    "\n",
    "\n",
    "#snooker table plot\n",
    "ax = plt.axes()\n",
    "ax.set_facecolor(\"green\")\n",
    "plt.scatter(balls[1:,0],balls[1:,1], color = 'red',s=50)\n",
    "plt.scatter(balls[0,0],balls[0,1],color = 'white',s=50)\n",
    "plt.scatter(pockets[:,0],pockets[:,1],color = 'black',s=200)\n",
    "print(\"############################################################\")\n",
    "print(\"THE POCKETS ARE COUNTED FROM 0-5 IN CLOCKWISE FROM THE ORIGIN\")\n",
    "print(\"############################################################\")\n",
    "plt.show()"
   ]
  },
  {
   "cell_type": "code",
   "execution_count": 2,
   "metadata": {},
   "outputs": [],
   "source": [
    "#ARRAY INIT\n",
    "prob1 = np.zeros((len(balls) - 1,6))\n",
    "nearest = np.zeros((len(balls) - 1))\n",
    "drp = np.zeros((len(balls) - 1,6))\n",
    "dwrp = np.zeros((len(balls) - 1,6))\n",
    "angles = np.zeros((len(balls) - 1,6))\n",
    "prob2 = np.zeros((len(balls) - 1,6))\n",
    "\n",
    "\n",
    "for i in range(1,len(balls)):\n",
    "    for j in range(0,6):\n",
    "        drp[i-1,j] = int(np.linalg.norm(balls[i] - pockets[j]))  #DISTANCE FROM RED TO POCKET\n",
    "        dwrp[i-1,j] = int(np.linalg.norm(balls[0] - balls[i])) + drp[i-1,j]   #DISTANCE FROM WHITE TO RED TO POCKET\n",
    "        prob1[i-1,j] = map(dwrp[i-1,j],0,250,1,0)\n",
    "    nearest[i-1] = np.argmin(drp[i-1]) #NEAREST POCKET FOR THE BALL, (not used in further calculations, \n",
    "                                                                     #but is a good variable to take a different logic route)\n",
    "\n",
    "#print(dwrp)        \n",
    "#print(prob1)\n",
    "#print(nearest)\n",
    "\n",
    "for i in range(0,len(balls)-1):\n",
    "    for j in range(0,6):\n",
    "        angles[i,j] = getAngle(balls[0],balls[i+1],pockets[j])\n",
    "        if angles[i,j]>90:\n",
    "            angles[i,j]=90\n",
    "        prob2[i,j] = map(angles[i,j],0,90,1,0.01)\n",
    "        \n",
    "#print(angles)\n",
    "#print(prob2)    "
   ]
  },
  {
   "cell_type": "code",
   "execution_count": null,
   "metadata": {},
   "outputs": [],
   "source": []
  },
  {
   "cell_type": "code",
   "execution_count": null,
   "metadata": {},
   "outputs": [],
   "source": []
  },
  {
   "cell_type": "code",
   "execution_count": null,
   "metadata": {},
   "outputs": [],
   "source": []
  },
  {
   "cell_type": "code",
   "execution_count": 3,
   "metadata": {},
   "outputs": [
    {
     "name": "stdout",
     "output_type": "stream",
     "text": [
      "The ball number 1 at [133  62] has 20.31% chance to pocket at 3\n",
      "The ball number 2 at [114  81] has 0.54% chance to pocket at 2\n",
      "The ball number 3 at [193  68] has 4.67% chance to pocket at 3\n",
      "The ball number 4 at [62 85] has 0.63% chance to pocket at 2\n",
      "The ball number 5 at [163  44] has 6.93% chance to pocket at 3\n",
      "The ball number 6 at [132  90] has 0.42% chance to pocket at 2\n",
      "The ball number 7 at [100  93] has 23.27% chance to pocket at 2\n",
      "The ball number 8 at [190  38] has 0.80% chance to pocket at 3\n",
      "####################################################################\n",
      "Final Prob matrix\n",
      "Each row corresponds to a ball and each column gives the mapped probability the ball may be pocketed in the respective pocket\n",
      "[[-1.20000000e-04  2.00000000e-04  3.72000000e-03  2.03083567e-01\n",
      "   2.08000000e-03  2.92000000e-03]\n",
      " [ 7.20000000e-04  1.68000000e-03  5.36000000e-03  2.76000000e-03\n",
      "   1.56000000e-03  3.00000000e-03]\n",
      " [-4.84000000e-03 -4.48000000e-03 -6.00000000e-04  4.66698143e-02\n",
      "   6.00000000e-04 -1.28000000e-03]\n",
      " [ 3.72000000e-03  5.40000000e-03  6.32000000e-03  2.40000000e-03\n",
      "   1.44000000e-03  4.20000000e-03]\n",
      " [-2.16000000e-03 -2.32000000e-03  1.20000000e-03  6.93191038e-02\n",
      "   2.28000000e-03  1.52000000e-03]\n",
      " [-8.80000000e-04  2.00000000e-04  4.16000000e-03  2.76000000e-03\n",
      "   1.00000000e-03  1.68000000e-03]\n",
      " [ 1.12000000e-03  2.56000000e-03  2.32688853e-01  2.56000000e-03\n",
      "   1.12000000e-03  2.84000000e-03]\n",
      " [-4.24000000e-03 -4.48000000e-03 -8.80000000e-04  7.98779280e-03\n",
      "   1.92000000e-03 -4.00000000e-04]]\n"
     ]
    }
   ],
   "source": [
    "#FINAL PROBABILITY BEING PRODUCT OF ANGLE AND DISTACNCE PROBS\n",
    "final  = prob1 * prob2\n",
    "for i in range(0,len(balls) - 1):\n",
    "    print(\"The ball number \" + str(i+1)+ \" at \"+ str(balls[i+1])+\" has \"+ \n",
    "          \"{:.2f}\".format(max(final[i])*100) + \"% chance to pocket at \" + str(np.argmax(final[i])))\n",
    "\n",
    "print(\"####################################################################\")\n",
    "print(\"Final Prob matrix\")\n",
    "print(\"Each row corresponds to a ball and each column gives the mapped probability the ball may be pocketed in the respective pocket\")\n",
    "print(final)"
   ]
  },
  {
   "cell_type": "code",
   "execution_count": null,
   "metadata": {},
   "outputs": [],
   "source": []
  },
  {
   "cell_type": "code",
   "execution_count": 15,
   "metadata": {},
   "outputs": [],
   "source": [
    " np.set_printoptions(formatter={'float': lambda x: \"{0:0.3f}\".format(x)})\n"
   ]
  },
  {
   "cell_type": "code",
   "execution_count": null,
   "metadata": {},
   "outputs": [],
   "source": []
  },
  {
   "cell_type": "code",
   "execution_count": null,
   "metadata": {},
   "outputs": [],
   "source": []
  },
  {
   "cell_type": "code",
   "execution_count": null,
   "metadata": {},
   "outputs": [],
   "source": []
  },
  {
   "cell_type": "code",
   "execution_count": null,
   "metadata": {},
   "outputs": [],
   "source": []
  },
  {
   "cell_type": "code",
   "execution_count": null,
   "metadata": {},
   "outputs": [],
   "source": []
  },
  {
   "cell_type": "code",
   "execution_count": null,
   "metadata": {},
   "outputs": [],
   "source": []
  },
  {
   "cell_type": "code",
   "execution_count": null,
   "metadata": {},
   "outputs": [],
   "source": []
  },
  {
   "cell_type": "code",
   "execution_count": null,
   "metadata": {},
   "outputs": [],
   "source": []
  },
  {
   "cell_type": "code",
   "execution_count": null,
   "metadata": {},
   "outputs": [],
   "source": []
  },
  {
   "cell_type": "code",
   "execution_count": null,
   "metadata": {},
   "outputs": [],
   "source": []
  }
 ],
 "metadata": {
  "kernelspec": {
   "display_name": "Python 3",
   "language": "python",
   "name": "python3"
  },
  "language_info": {
   "codemirror_mode": {
    "name": "ipython",
    "version": 3
   },
   "file_extension": ".py",
   "mimetype": "text/x-python",
   "name": "python",
   "nbconvert_exporter": "python",
   "pygments_lexer": "ipython3",
   "version": "3.8.5"
  }
 },
 "nbformat": 4,
 "nbformat_minor": 4
}
